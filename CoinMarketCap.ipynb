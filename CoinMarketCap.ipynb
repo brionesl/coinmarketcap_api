{
 "cells": [
  {
   "cell_type": "markdown",
   "metadata": {},
   "source": [
    "# Crytocurrency Data Exercise\n",
    "\n",
    "The first section of this notebook contains the script used to ingest data from the CoinMarketCap API and load it into BigQuery. Each step labeled with markdown text. The second section contains the SQL queries used to answer the questions in the exercise"
   ]
  },
  {
   "cell_type": "markdown",
   "metadata": {},
   "source": [
    "## I - CoinMarketCap Data Pipeline"
   ]
  },
  {
   "cell_type": "code",
   "execution_count": 63,
   "metadata": {},
   "outputs": [],
   "source": [
    "import json, pandas as pd, requests, logging\n",
    "from pandas.io.json import json_normalize\n",
    "from google.datalab import Context\n",
    "import google.datalab.bigquery as bq\n",
    "import google.datalab.storage as storage\n",
    "  \n",
    "# global variable names\n",
    "bucket_name = 'coin-market-cap-bucket'\n",
    "csv_file_name = 'cmc_data.csv'\n",
    "log_file_name = 'coinmarketcap.log'\n",
    "\n",
    "# begin logging\n",
    "logging.basicConfig(filename=log_file_name, format='%(asctime)s - %(message)s')  \n",
    "logging.info('############### SCRIPT START ###############')\n",
    "\n",
    "# CoinMarketCap API call function\n",
    "def api_call(querystring, uri, payload, api_key):\n",
    "    headers = {\n",
    "        'X-CMC_PRO_API_KEY': api_key,\n",
    "        'Content-Type': \"application/json\"\n",
    "    }\n",
    "    try:\n",
    "        response = requests.request(\"GET\", uri, data=payload, headers=headers, params=querystring)\n",
    "        return response\n",
    "    except requests.exceptions.RequestException as e:\n",
    "        print(e)"
   ]
  },
  {
   "cell_type": "markdown",
   "metadata": {},
   "source": [
    "#### 1. Pull current data for all cryptocurrencies using the CoinMarketCap API"
   ]
  },
  {
   "cell_type": "code",
   "execution_count": 64,
   "metadata": {},
   "outputs": [],
   "source": [
    "# storing credentials in gcs bucket to avoid hardcoding\n",
    "# in production environment, this file would be stored in a non-public bucket only accessible throught the service\n",
    "# account used by this script. For purposes of this exercise, file is in the same public bucket as the output file\n",
    "%gcs read --object gs://coin-market-cap-bucket/config/config.json --variable config\n",
    "\n",
    "config = json.loads(config.decode('utf-8'))\n",
    "cmc_api_uri = config['api']['coinMarketCap']['uri']\n",
    "cmc_api_key = config['api']['coinMarketCap']['key']\n",
    "\n",
    "querystring = {\"limit\":\"5000\"}\n",
    "payload = \"{\\n\\tstart: 1,\\n\\tconvert: 'USD'\\n}\"\n",
    "\n",
    "# call api fetch function which returns the data and any response codes for error handling\n",
    "response = api_call(querystring, cmc_api_uri, payload, cmc_api_key)\n",
    "\n",
    "logging.info('Step 1 - Pull CoinMarketCap API data - Complete')"
   ]
  },
  {
   "cell_type": "markdown",
   "metadata": {},
   "source": [
    "#### 2. Save this data as a CSV file"
   ]
  },
  {
   "cell_type": "code",
   "execution_count": 65,
   "metadata": {},
   "outputs": [],
   "source": [
    "# adhering to instructions to save data as .csv file. Depending on size, the data could be streamed directly to bucket\n",
    "# to avoid saving it locally first\n",
    "\n",
    "if not response.status_code == 200:\n",
    "  error_msg = json.loads(response.text)['status']['error_message']\n",
    "  print('Error fetching CoinMarketCap API data. {}'.format(error_msg))\n",
    "  logging.error('Error fetching CoinMarketCap API data. %s', error_msg)\n",
    "else:\n",
    "  # convert response string to json. Cryptocurrency data is in the \"data\" key of the response json\n",
    "  crypto_data_list = json.loads(response.text)['data']\n",
    "\n",
    "  # flatten json structure into pandas dataframe with rows and columns\n",
    "  crypto_data_tbl_df = json_normalize(crypto_data_list)\n",
    "\n",
    "  # ensure column names don't have periods (.)\n",
    "  crypto_data_tbl_df.columns = [x.strip().replace('.', '_') for x in crypto_data_tbl_df.columns]\n",
    "\n",
    "  # remove any NaN values from dataframe\n",
    "  crypto_data_tbl_df.fillna(value='', inplace=True)\n",
    "\n",
    "  # save local csv file\n",
    "  crypto_data_tbl_df.to_csv('/tmp/'+ csv_file_name, index=False)\n",
    "\n",
    "  # save crypto_data_tbl_df schema to use later when creating table in BigQuery\n",
    "  coin_data_schema = bq.Schema.from_data(crypto_data_tbl_df)\n",
    "  \n",
    "  logging.info('Step 2 - Save CSV File - Complete')"
   ]
  },
  {
   "cell_type": "markdown",
   "metadata": {},
   "source": [
    "#### 3. Upload the CSV to a Google Cloud Storage Bucket"
   ]
  },
  {
   "cell_type": "code",
   "execution_count": 66,
   "metadata": {},
   "outputs": [
    {
     "name": "stdout",
     "output_type": "stream",
     "text": [
      "Copying file:///tmp/cmc_data.csv [Content-Type=text/csv]...\n",
      "/ [1 files][539.3 KiB/539.3 KiB]                                                \n",
      "Operation completed over 1 objects/539.3 KiB.                                    \n"
     ]
    }
   ],
   "source": [
    "object_folder = 'cryptocurrency-data'\n",
    "bucket_key = object_folder + '/' + csv_file_name\n",
    "local_path = '/tmp/' + csv_file_name\n",
    "bucket_path = 'gs://' + bucket_name + '/' + bucket_key\n",
    "\n",
    "# using gsutil command line tool to move local file to GCS\n",
    "!gsutil cp  $local_path  $bucket_path\n",
    "\n",
    "# verify file was successfully uploaded to GCS\n",
    "bucket_object = storage.Object(bucket_name, bucket_key)\n",
    "if not bucket_object.exists():\n",
    "  print('File not successfully uploaded to bucket. Issue logged')\n",
    "  logging.error('%s was not uploaded to bucket successfully.', csv_file_name)\n",
    "  exit(1)\n",
    "else:  \n",
    "  logging.info('Step 3 - Upload to GCS Bucket - Complete')"
   ]
  },
  {
   "cell_type": "markdown",
   "metadata": {},
   "source": [
    "#### 4. Move cryptocurrency data from GCS bucket to BigQuery"
   ]
  },
  {
   "cell_type": "code",
   "execution_count": 67,
   "metadata": {},
   "outputs": [],
   "source": [
    "if response.status_code == 200:\n",
    "  # Create the dataset if it doesn't exist. If it exists, it will not be overwritten\n",
    "  bq.Dataset('cryptocurrency').create()\n",
    "\n",
    "  # Create coin data table based on previously stored dataframe schema if it doesn't exist. Table WILL be overwritten\n",
    "  coin_data_table = bq.Table('cryptocurrency.coin_data').create(schema = coin_data_schema, overwrite = True)\n",
    "\n",
    "  # insert coin data\n",
    "  coin_data_table.load(bucket_path, mode='append',\n",
    "                    source_format = 'csv', csv_options=bq.CSVOptions(skip_leading_rows = 1))\n",
    "\n",
    "logging.info('Step 4 - Insert into BigQuery Table - Complete')\n",
    "logging.info('############### SCRIPT END ###############')"
   ]
  },
  {
   "cell_type": "code",
   "execution_count": 68,
   "metadata": {},
   "outputs": [
    {
     "name": "stdout",
     "output_type": "stream",
     "text": [
      "Copying file://coinmarketcap.log [Content-Type=application/octet-stream]...\n",
      "/ [1 files][    0.0 B/    0.0 B]                                                \n",
      "Operation completed over 1 objects.                                              \n"
     ]
    }
   ],
   "source": [
    "# Transfer log file to GCS\n",
    "object_folder = 'config'\n",
    "bucket_key = object_folder + '/' + log_file_name\n",
    "bucket_path = 'gs://' + bucket_name + '/' + bucket_key\n",
    "\n",
    "# using gsutil command line tool to move local file to GCS\n",
    "!gsutil cp  $log_file_name  $bucket_path\n",
    "\n",
    "# cleanup in the next section"
   ]
  },
  {
   "cell_type": "code",
   "execution_count": 82,
   "metadata": {},
   "outputs": [],
   "source": [
    "%%bash\n",
    "rm -f $local_path\n",
    "rm -f $log_file_name"
   ]
  },
  {
   "cell_type": "markdown",
   "metadata": {},
   "source": [
    "## II - Exercise Queries"
   ]
  },
  {
   "cell_type": "markdown",
   "metadata": {},
   "source": [
    "#### 1. How many coins have a USD price greater than $8,000?"
   ]
  },
  {
   "cell_type": "code",
   "execution_count": 70,
   "metadata": {
    "hiddenCell": true
   },
   "outputs": [],
   "source": [
    "%%bq query -n coins_gt_8k\n",
    "select count(name) as num_coins_gt_8k from cryptocurrency.coin_data\n",
    "where quote_usd_price > 8000"
   ]
  },
  {
   "cell_type": "code",
   "execution_count": 71,
   "metadata": {},
   "outputs": [
    {
     "data": {
      "text/html": [
       "\n",
       "    <div class=\"bqtv\" id=\"10_154692746273\"><table><tr><th>num_coins_gt_8k</th></tr><tr><td>2</td></tr></table></div>\n",
       "    <br />(rows: 1, time: 0.4s,    39KB processed, job: job_DI_cIvuZ50KDbJwu4OiQpyDT3IWy)<br />\n",
       "    <script src=\"/static/components/requirejs/require.js\"></script>\n",
       "    <script>\n",
       "      require.config({\n",
       "        paths: {\n",
       "          base: '/static/base',\n",
       "          d3: '//cdnjs.cloudflare.com/ajax/libs/d3/3.4.13/d3',\n",
       "          plotly: 'https://cdn.plot.ly/plotly-1.5.1.min.js?noext',\n",
       "          jquery: '//ajax.googleapis.com/ajax/libs/jquery/2.0.0/jquery.min'\n",
       "        },\n",
       "        map: {\n",
       "          '*': {\n",
       "            datalab: 'nbextensions/gcpdatalab'\n",
       "          }\n",
       "        },\n",
       "        shim: {\n",
       "          plotly: {\n",
       "            deps: ['d3', 'jquery'],\n",
       "            exports: 'plotly'\n",
       "          }\n",
       "        }\n",
       "      });\n",
       "\n",
       "      require(['datalab/charting', 'datalab/element!10_154692746273', 'base/js/events',\n",
       "          'datalab/style!/nbextensions/gcpdatalab/charting.css'],\n",
       "        function(charts, dom, events) {\n",
       "          charts.render('gcharts', dom, events, 'table', [], {\"cols\": [{\"type\": \"number\", \"label\": \"num_coins_gt_8k\", \"id\": \"num_coins_gt_8k\"}], \"rows\": [{\"c\": [{\"v\": 2}]}]},\n",
       "            {\n",
       "              pageSize: 25,\n",
       "              cssClassNames:  {\n",
       "                tableRow: 'gchart-table-row',\n",
       "                headerRow: 'gchart-table-headerrow',\n",
       "                oddTableRow: 'gchart-table-oddrow',\n",
       "                selectedTableRow: 'gchart-table-selectedrow',\n",
       "                hoverTableRow: 'gchart-table-hoverrow',\n",
       "                tableCell: 'gchart-table-cell',\n",
       "                headerCell: 'gchart-table-headercell',\n",
       "                rowNumberCell: 'gchart-table-rownumcell'\n",
       "              }\n",
       "            },\n",
       "            {source_index: 9, fields: 'num_coins_gt_8k'},\n",
       "            0,\n",
       "            1);\n",
       "        }\n",
       "      );\n",
       "    </script>\n",
       "  "
      ],
      "text/plain": [
       "QueryResultsTable job_DI_cIvuZ50KDbJwu4OiQpyDT3IWy"
      ]
     },
     "execution_count": 71,
     "metadata": {},
     "output_type": "execute_result"
    }
   ],
   "source": [
    "%bq execute -q coins_gt_8k"
   ]
  },
  {
   "cell_type": "markdown",
   "metadata": {},
   "source": [
    "#### 2. What is the total market cap of the top 100 cryptocurrencies (in USD)?"
   ]
  },
  {
   "cell_type": "code",
   "execution_count": 72,
   "metadata": {},
   "outputs": [],
   "source": [
    "%%bq query -n top_100\n",
    "select sum(z.quote_USD_market_cap) as total_market_cap\n",
    "from (\n",
    "select quote_USD_market_cap from cryptocurrency.coin_data\n",
    "order by cmc_rank\n",
    "limit 100\n",
    ") z"
   ]
  },
  {
   "cell_type": "code",
   "execution_count": 73,
   "metadata": {},
   "outputs": [
    {
     "data": {
      "text/html": [
       "\n",
       "    <div class=\"bqtv\" id=\"11_154692746490\"><table><tr><th>total_market_cap</th></tr><tr><td>129775946451.8717</td></tr></table></div>\n",
       "    <br />(rows: 1, time: 0.4s,    33KB processed, job: job_jogFUy5OIy4zZ9vqqgLHLga7HuGi)<br />\n",
       "    <script src=\"/static/components/requirejs/require.js\"></script>\n",
       "    <script>\n",
       "      require.config({\n",
       "        paths: {\n",
       "          base: '/static/base',\n",
       "          d3: '//cdnjs.cloudflare.com/ajax/libs/d3/3.4.13/d3',\n",
       "          plotly: 'https://cdn.plot.ly/plotly-1.5.1.min.js?noext',\n",
       "          jquery: '//ajax.googleapis.com/ajax/libs/jquery/2.0.0/jquery.min'\n",
       "        },\n",
       "        map: {\n",
       "          '*': {\n",
       "            datalab: 'nbextensions/gcpdatalab'\n",
       "          }\n",
       "        },\n",
       "        shim: {\n",
       "          plotly: {\n",
       "            deps: ['d3', 'jquery'],\n",
       "            exports: 'plotly'\n",
       "          }\n",
       "        }\n",
       "      });\n",
       "\n",
       "      require(['datalab/charting', 'datalab/element!11_154692746490', 'base/js/events',\n",
       "          'datalab/style!/nbextensions/gcpdatalab/charting.css'],\n",
       "        function(charts, dom, events) {\n",
       "          charts.render('gcharts', dom, events, 'table', [], {\"cols\": [{\"type\": \"number\", \"label\": \"total_market_cap\", \"id\": \"total_market_cap\"}], \"rows\": [{\"c\": [{\"v\": 129775946451.8717}]}]},\n",
       "            {\n",
       "              pageSize: 25,\n",
       "              cssClassNames:  {\n",
       "                tableRow: 'gchart-table-row',\n",
       "                headerRow: 'gchart-table-headerrow',\n",
       "                oddTableRow: 'gchart-table-oddrow',\n",
       "                selectedTableRow: 'gchart-table-selectedrow',\n",
       "                hoverTableRow: 'gchart-table-hoverrow',\n",
       "                tableCell: 'gchart-table-cell',\n",
       "                headerCell: 'gchart-table-headercell',\n",
       "                rowNumberCell: 'gchart-table-rownumcell'\n",
       "              }\n",
       "            },\n",
       "            {source_index: 10, fields: 'total_market_cap'},\n",
       "            0,\n",
       "            1);\n",
       "        }\n",
       "      );\n",
       "    </script>\n",
       "  "
      ],
      "text/plain": [
       "QueryResultsTable job_jogFUy5OIy4zZ9vqqgLHLga7HuGi"
      ]
     },
     "execution_count": 73,
     "metadata": {},
     "output_type": "execute_result"
    }
   ],
   "source": [
    "%bq execute -q top_100"
   ]
  },
  {
   "cell_type": "markdown",
   "metadata": {},
   "source": [
    "#### 3. Which coins have an available supply less than $5M?"
   ]
  },
  {
   "cell_type": "code",
   "execution_count": 74,
   "metadata": {},
   "outputs": [],
   "source": [
    "%%bq query -n avail_supply_lt_5M\n",
    "select name from cryptocurrency.coin_data\n",
    "where cast(total_supply as FLOAT64) < 5000000\n",
    "order by total_supply"
   ]
  },
  {
   "cell_type": "code",
   "execution_count": 75,
   "metadata": {},
   "outputs": [
    {
     "data": {
      "text/html": [
       "\n",
       "    <div class=\"bqtv\" id=\"12_154692746708\"><table><tr><th>name</th></tr><tr><td>Project-X</td></tr><tr><td>ThoreCoin</td></tr><tr><td>Maker</td></tr><tr><td>Kolion</td></tr><tr><td>Ethereum Lite</td></tr><tr><td>Mixin</td></tr><tr><td>KUN</td></tr><tr><td>Byteball Bytes</td></tr><tr><td>Dalecoin</td></tr><tr><td>Melon</td></tr><tr><td>SaluS</td></tr><tr><td>Tokugawa</td></tr><tr><td>Bullion</td></tr><tr><td>Ignition</td></tr><tr><td>TerraNova</td></tr><tr><td>bitEUR</td></tr><tr><td>MFIT COIN</td></tr><tr><td>Chronologic</td></tr><tr><td>sUSD</td></tr><tr><td>WETH</td></tr><tr><td>EcoCoin</td></tr><tr><td>Bitcoin Plus</td></tr><tr><td>Growers International</td></tr><tr><td>Acoin</td></tr><tr><td>Octoin Coin</td></tr></table></div>\n",
       "    <br />(rows: 180, time: 0.5s,    53KB processed, job: job_nWZDfqWg5A2gov5b0YNZBO9-Sx2p)<br />\n",
       "    <script src=\"/static/components/requirejs/require.js\"></script>\n",
       "    <script>\n",
       "      require.config({\n",
       "        paths: {\n",
       "          base: '/static/base',\n",
       "          d3: '//cdnjs.cloudflare.com/ajax/libs/d3/3.4.13/d3',\n",
       "          plotly: 'https://cdn.plot.ly/plotly-1.5.1.min.js?noext',\n",
       "          jquery: '//ajax.googleapis.com/ajax/libs/jquery/2.0.0/jquery.min'\n",
       "        },\n",
       "        map: {\n",
       "          '*': {\n",
       "            datalab: 'nbextensions/gcpdatalab'\n",
       "          }\n",
       "        },\n",
       "        shim: {\n",
       "          plotly: {\n",
       "            deps: ['d3', 'jquery'],\n",
       "            exports: 'plotly'\n",
       "          }\n",
       "        }\n",
       "      });\n",
       "\n",
       "      require(['datalab/charting', 'datalab/element!12_154692746708', 'base/js/events',\n",
       "          'datalab/style!/nbextensions/gcpdatalab/charting.css'],\n",
       "        function(charts, dom, events) {\n",
       "          charts.render('gcharts', dom, events, 'paged_table', [], {\"cols\": [{\"type\": \"string\", \"label\": \"name\", \"id\": \"name\"}], \"rows\": [{\"c\": [{\"v\": \"Project-X\"}]}, {\"c\": [{\"v\": \"ThoreCoin\"}]}, {\"c\": [{\"v\": \"Maker\"}]}, {\"c\": [{\"v\": \"Kolion\"}]}, {\"c\": [{\"v\": \"Ethereum Lite\"}]}, {\"c\": [{\"v\": \"Mixin\"}]}, {\"c\": [{\"v\": \"KUN\"}]}, {\"c\": [{\"v\": \"Byteball Bytes\"}]}, {\"c\": [{\"v\": \"Dalecoin\"}]}, {\"c\": [{\"v\": \"Melon\"}]}, {\"c\": [{\"v\": \"SaluS\"}]}, {\"c\": [{\"v\": \"Tokugawa\"}]}, {\"c\": [{\"v\": \"Bullion\"}]}, {\"c\": [{\"v\": \"Ignition\"}]}, {\"c\": [{\"v\": \"TerraNova\"}]}, {\"c\": [{\"v\": \"bitEUR\"}]}, {\"c\": [{\"v\": \"MFIT COIN\"}]}, {\"c\": [{\"v\": \"Chronologic\"}]}, {\"c\": [{\"v\": \"sUSD\"}]}, {\"c\": [{\"v\": \"WETH\"}]}, {\"c\": [{\"v\": \"EcoCoin\"}]}, {\"c\": [{\"v\": \"Bitcoin Plus\"}]}, {\"c\": [{\"v\": \"Growers International\"}]}, {\"c\": [{\"v\": \"Acoin\"}]}, {\"c\": [{\"v\": \"Octoin Coin\"}]}]},\n",
       "            {\n",
       "              pageSize: 25,\n",
       "              cssClassNames:  {\n",
       "                tableRow: 'gchart-table-row',\n",
       "                headerRow: 'gchart-table-headerrow',\n",
       "                oddTableRow: 'gchart-table-oddrow',\n",
       "                selectedTableRow: 'gchart-table-selectedrow',\n",
       "                hoverTableRow: 'gchart-table-hoverrow',\n",
       "                tableCell: 'gchart-table-cell',\n",
       "                headerCell: 'gchart-table-headercell',\n",
       "                rowNumberCell: 'gchart-table-rownumcell'\n",
       "              }\n",
       "            },\n",
       "            {source_index: 11, fields: 'name'},\n",
       "            0,\n",
       "            180);\n",
       "        }\n",
       "      );\n",
       "    </script>\n",
       "  "
      ],
      "text/plain": [
       "QueryResultsTable job_nWZDfqWg5A2gov5b0YNZBO9-Sx2p"
      ]
     },
     "execution_count": 75,
     "metadata": {},
     "output_type": "execute_result"
    }
   ],
   "source": [
    "%bq execute -q avail_supply_lt_5M"
   ]
  },
  {
   "cell_type": "markdown",
   "metadata": {},
   "source": [
    "#### 4. Which 5 coins have seen the greatest percentage growth in the last week?"
   ]
  },
  {
   "cell_type": "code",
   "execution_count": 76,
   "metadata": {},
   "outputs": [],
   "source": [
    "%%bq query -n highest_growth_week\n",
    "select name from cryptocurrency.coin_data\n",
    "order by quote_USD_percent_change_7d desc\n",
    "limit 5"
   ]
  },
  {
   "cell_type": "code",
   "execution_count": 77,
   "metadata": {},
   "outputs": [
    {
     "data": {
      "text/html": [
       "\n",
       "    <div class=\"bqtv\" id=\"13_154692746922\"><table><tr><th>name</th></tr><tr><td>PlayerCoin</td></tr><tr><td>Fujinto</td></tr><tr><td>Privatix</td></tr><tr><td>Earth Token</td></tr><tr><td>ZCore</td></tr></table></div>\n",
       "    <br />(rows: 5, time: 0.3s,    42KB processed, job: job_p9zZJaK09lfDeMggCPmey7NAhLs4)<br />\n",
       "    <script src=\"/static/components/requirejs/require.js\"></script>\n",
       "    <script>\n",
       "      require.config({\n",
       "        paths: {\n",
       "          base: '/static/base',\n",
       "          d3: '//cdnjs.cloudflare.com/ajax/libs/d3/3.4.13/d3',\n",
       "          plotly: 'https://cdn.plot.ly/plotly-1.5.1.min.js?noext',\n",
       "          jquery: '//ajax.googleapis.com/ajax/libs/jquery/2.0.0/jquery.min'\n",
       "        },\n",
       "        map: {\n",
       "          '*': {\n",
       "            datalab: 'nbextensions/gcpdatalab'\n",
       "          }\n",
       "        },\n",
       "        shim: {\n",
       "          plotly: {\n",
       "            deps: ['d3', 'jquery'],\n",
       "            exports: 'plotly'\n",
       "          }\n",
       "        }\n",
       "      });\n",
       "\n",
       "      require(['datalab/charting', 'datalab/element!13_154692746922', 'base/js/events',\n",
       "          'datalab/style!/nbextensions/gcpdatalab/charting.css'],\n",
       "        function(charts, dom, events) {\n",
       "          charts.render('gcharts', dom, events, 'table', [], {\"cols\": [{\"type\": \"string\", \"label\": \"name\", \"id\": \"name\"}], \"rows\": [{\"c\": [{\"v\": \"PlayerCoin\"}]}, {\"c\": [{\"v\": \"Fujinto\"}]}, {\"c\": [{\"v\": \"Privatix\"}]}, {\"c\": [{\"v\": \"Earth Token\"}]}, {\"c\": [{\"v\": \"ZCore\"}]}]},\n",
       "            {\n",
       "              pageSize: 25,\n",
       "              cssClassNames:  {\n",
       "                tableRow: 'gchart-table-row',\n",
       "                headerRow: 'gchart-table-headerrow',\n",
       "                oddTableRow: 'gchart-table-oddrow',\n",
       "                selectedTableRow: 'gchart-table-selectedrow',\n",
       "                hoverTableRow: 'gchart-table-hoverrow',\n",
       "                tableCell: 'gchart-table-cell',\n",
       "                headerCell: 'gchart-table-headercell',\n",
       "                rowNumberCell: 'gchart-table-rownumcell'\n",
       "              }\n",
       "            },\n",
       "            {source_index: 12, fields: 'name'},\n",
       "            0,\n",
       "            5);\n",
       "        }\n",
       "      );\n",
       "    </script>\n",
       "  "
      ],
      "text/plain": [
       "QueryResultsTable job_p9zZJaK09lfDeMggCPmey7NAhLs4"
      ]
     },
     "execution_count": 77,
     "metadata": {},
     "output_type": "execute_result"
    }
   ],
   "source": [
    "%bq execute -q highest_growth_week"
   ]
  },
  {
   "cell_type": "markdown",
   "metadata": {},
   "source": [
    "#### 5. How many ticker symbols contain the letter \"X\" ?"
   ]
  },
  {
   "cell_type": "code",
   "execution_count": 78,
   "metadata": {},
   "outputs": [],
   "source": [
    "%%bq query -n x_in_symbol\n",
    "select count(*) as num_symbol_w_X from cryptocurrency.coin_data\n",
    "where upper(symbol) like '%X%'"
   ]
  },
  {
   "cell_type": "code",
   "execution_count": 79,
   "metadata": {},
   "outputs": [
    {
     "data": {
      "text/html": [
       "\n",
       "    <div class=\"bqtv\" id=\"14_154692747154\"><table><tr><th>num_symbol_w_X</th></tr><tr><td>276</td></tr></table></div>\n",
       "    <br />(rows: 1, time: 0.4s,    11KB processed, job: job_luf-DmNbg_rRxmXVTh8Kn1o2eCiM)<br />\n",
       "    <script src=\"/static/components/requirejs/require.js\"></script>\n",
       "    <script>\n",
       "      require.config({\n",
       "        paths: {\n",
       "          base: '/static/base',\n",
       "          d3: '//cdnjs.cloudflare.com/ajax/libs/d3/3.4.13/d3',\n",
       "          plotly: 'https://cdn.plot.ly/plotly-1.5.1.min.js?noext',\n",
       "          jquery: '//ajax.googleapis.com/ajax/libs/jquery/2.0.0/jquery.min'\n",
       "        },\n",
       "        map: {\n",
       "          '*': {\n",
       "            datalab: 'nbextensions/gcpdatalab'\n",
       "          }\n",
       "        },\n",
       "        shim: {\n",
       "          plotly: {\n",
       "            deps: ['d3', 'jquery'],\n",
       "            exports: 'plotly'\n",
       "          }\n",
       "        }\n",
       "      });\n",
       "\n",
       "      require(['datalab/charting', 'datalab/element!14_154692747154', 'base/js/events',\n",
       "          'datalab/style!/nbextensions/gcpdatalab/charting.css'],\n",
       "        function(charts, dom, events) {\n",
       "          charts.render('gcharts', dom, events, 'table', [], {\"cols\": [{\"type\": \"number\", \"label\": \"num_symbol_w_X\", \"id\": \"num_symbol_w_X\"}], \"rows\": [{\"c\": [{\"v\": 276}]}]},\n",
       "            {\n",
       "              pageSize: 25,\n",
       "              cssClassNames:  {\n",
       "                tableRow: 'gchart-table-row',\n",
       "                headerRow: 'gchart-table-headerrow',\n",
       "                oddTableRow: 'gchart-table-oddrow',\n",
       "                selectedTableRow: 'gchart-table-selectedrow',\n",
       "                hoverTableRow: 'gchart-table-hoverrow',\n",
       "                tableCell: 'gchart-table-cell',\n",
       "                headerCell: 'gchart-table-headercell',\n",
       "                rowNumberCell: 'gchart-table-rownumcell'\n",
       "              }\n",
       "            },\n",
       "            {source_index: 13, fields: 'num_symbol_w_X'},\n",
       "            0,\n",
       "            1);\n",
       "        }\n",
       "      );\n",
       "    </script>\n",
       "  "
      ],
      "text/plain": [
       "QueryResultsTable job_luf-DmNbg_rRxmXVTh8Kn1o2eCiM"
      ]
     },
     "execution_count": 79,
     "metadata": {},
     "output_type": "execute_result"
    }
   ],
   "source": [
    "%bq execute -q x_in_symbol"
   ]
  }
 ],
 "metadata": {
  "kernelspec": {
   "display_name": "Python 3",
   "language": "python",
   "name": "python3"
  },
  "language_info": {
   "codemirror_mode": {
    "name": "ipython",
    "version": 3
   },
   "file_extension": ".py",
   "mimetype": "text/x-python",
   "name": "python",
   "nbconvert_exporter": "python",
   "pygments_lexer": "ipython3",
   "version": "3.5.6"
  }
 },
 "nbformat": 4,
 "nbformat_minor": 2
}
